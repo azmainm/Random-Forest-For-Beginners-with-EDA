{
 "cells": [
  {
   "cell_type": "markdown",
   "id": "a089e7be",
   "metadata": {
    "papermill": {
     "duration": 0.030149,
     "end_time": "2021-09-29T08:08:09.314034",
     "exception": false,
     "start_time": "2021-09-29T08:08:09.283885",
     "status": "completed"
    },
    "tags": []
   },
   "source": [
    "# Introduction"
   ]
  },
  {
   "cell_type": "markdown",
   "id": "af52d968",
   "metadata": {
    "papermill": {
     "duration": 0.028681,
     "end_time": "2021-09-29T08:08:09.372035",
     "exception": false,
     "start_time": "2021-09-29T08:08:09.343354",
     "status": "completed"
    },
    "tags": []
   },
   "source": [
    "**This notebook is a guide for beginners into machine learning, random forest models to be more specific. There will be comments every step of the way so there is a clear understanding. We will be building a system that predicts quality of red wine.**"
   ]
  },
  {
   "cell_type": "markdown",
   "id": "a7105180",
   "metadata": {
    "papermill": {
     "duration": 0.028721,
     "end_time": "2021-09-29T08:08:09.431403",
     "exception": false,
     "start_time": "2021-09-29T08:08:09.402682",
     "status": "completed"
    },
    "tags": []
   },
   "source": [
    "# Supervised Machine Learning"
   ]
  },
  {
   "cell_type": "markdown",
   "id": "e0302277",
   "metadata": {
    "papermill": {
     "duration": 0.028666,
     "end_time": "2021-09-29T08:08:09.489082",
     "exception": false,
     "start_time": "2021-09-29T08:08:09.460416",
     "status": "completed"
    },
    "tags": []
   },
   "source": [
    "**Machine learning is divided into supervised and unsupervised learning. We train our model with data that we have previously acquired in supervised learning. In unsupervised learning, we have no data that we can train our model with.**\n",
    "\n",
    "**Supervised machine learning is divided into classification and regression. In classification, we predict discrete values, e.g. Yes/No, Customer will purchase/Won't purchase. But in regression, we predict continuous values, such as age, price, etc.**"
   ]
  },
  {
   "cell_type": "markdown",
   "id": "7e8c2022",
   "metadata": {
    "papermill": {
     "duration": 0.028673,
     "end_time": "2021-09-29T08:08:09.546746",
     "exception": false,
     "start_time": "2021-09-29T08:08:09.518073",
     "status": "completed"
    },
    "tags": []
   },
   "source": [
    "# Random Forest"
   ]
  },
  {
   "cell_type": "markdown",
   "id": "7a971020",
   "metadata": {
    "papermill": {
     "duration": 0.028948,
     "end_time": "2021-09-29T08:08:09.604828",
     "exception": false,
     "start_time": "2021-09-29T08:08:09.575880",
     "status": "completed"
    },
    "tags": []
   },
   "source": [
    "**A random forest is a machine learning technique that’s used to solve regression and classification problems. It consists of many decision trees.  It is based on the concept of ensemble learning, which is a process of combining multiple classifiers to solve a complex problem and to improve the performance of the model.**\n",
    "\n",
    "**It contains a number of decision trees on various subsets of the given dataset and takes the average to improve the predictive accuracy of that dataset. The greater number of trees in the forest leads to higher accuracy and prevents the problem of overfitting.**"
   ]
  },
  {
   "cell_type": "markdown",
   "id": "372639fc",
   "metadata": {
    "papermill": {
     "duration": 0.028868,
     "end_time": "2021-09-29T08:08:09.662744",
     "exception": false,
     "start_time": "2021-09-29T08:08:09.633876",
     "status": "completed"
    },
    "tags": []
   },
   "source": [
    "# Importing libraries and dataset"
   ]
  },
  {
   "cell_type": "code",
   "execution_count": 1,
   "id": "e5c1eb21",
   "metadata": {
    "_cell_guid": "b1076dfc-b9ad-4769-8c92-a6c4dae69d19",
    "_uuid": "8f2839f25d086af736a60e9eeb907d3b93b6e0e5",
    "execution": {
     "iopub.execute_input": "2021-09-29T08:08:09.726332Z",
     "iopub.status.busy": "2021-09-29T08:08:09.725196Z",
     "iopub.status.idle": "2021-09-29T08:08:10.946170Z",
     "shell.execute_reply": "2021-09-29T08:08:10.945356Z",
     "shell.execute_reply.started": "2021-09-29T07:42:48.667592Z"
    },
    "papermill": {
     "duration": 1.254377,
     "end_time": "2021-09-29T08:08:10.946339",
     "exception": false,
     "start_time": "2021-09-29T08:08:09.691962",
     "status": "completed"
    },
    "tags": []
   },
   "outputs": [],
   "source": [
    "import numpy as np\n",
    "import pandas as pd\n",
    "import matplotlib.pyplot as plt\n",
    "import seaborn as sns\n",
    "from sklearn.model_selection import train_test_split\n",
    "from sklearn.ensemble import RandomForestClassifier\n",
    "from sklearn.metrics import accuracy_score"
   ]
  },
  {
   "cell_type": "code",
   "execution_count": 2,
   "id": "2cbf3918",
   "metadata": {
    "execution": {
     "iopub.execute_input": "2021-09-29T08:08:11.011745Z",
     "iopub.status.busy": "2021-09-29T08:08:11.011060Z",
     "iopub.status.idle": "2021-09-29T08:08:11.058723Z",
     "shell.execute_reply": "2021-09-29T08:08:11.058186Z",
     "shell.execute_reply.started": "2021-09-29T07:42:49.923670Z"
    },
    "papermill": {
     "duration": 0.082809,
     "end_time": "2021-09-29T08:08:11.058861",
     "exception": false,
     "start_time": "2021-09-29T08:08:10.976052",
     "status": "completed"
    },
    "tags": []
   },
   "outputs": [
    {
     "data": {
      "text/html": [
       "<div>\n",
       "<style scoped>\n",
       "    .dataframe tbody tr th:only-of-type {\n",
       "        vertical-align: middle;\n",
       "    }\n",
       "\n",
       "    .dataframe tbody tr th {\n",
       "        vertical-align: top;\n",
       "    }\n",
       "\n",
       "    .dataframe thead th {\n",
       "        text-align: right;\n",
       "    }\n",
       "</style>\n",
       "<table border=\"1\" class=\"dataframe\">\n",
       "  <thead>\n",
       "    <tr style=\"text-align: right;\">\n",
       "      <th></th>\n",
       "      <th>fixed acidity</th>\n",
       "      <th>volatile acidity</th>\n",
       "      <th>citric acid</th>\n",
       "      <th>residual sugar</th>\n",
       "      <th>chlorides</th>\n",
       "      <th>free sulfur dioxide</th>\n",
       "      <th>total sulfur dioxide</th>\n",
       "      <th>density</th>\n",
       "      <th>pH</th>\n",
       "      <th>sulphates</th>\n",
       "      <th>alcohol</th>\n",
       "      <th>quality</th>\n",
       "    </tr>\n",
       "  </thead>\n",
       "  <tbody>\n",
       "    <tr>\n",
       "      <th>0</th>\n",
       "      <td>7.4</td>\n",
       "      <td>0.70</td>\n",
       "      <td>0.00</td>\n",
       "      <td>1.9</td>\n",
       "      <td>0.076</td>\n",
       "      <td>11.0</td>\n",
       "      <td>34.0</td>\n",
       "      <td>0.9978</td>\n",
       "      <td>3.51</td>\n",
       "      <td>0.56</td>\n",
       "      <td>9.4</td>\n",
       "      <td>5</td>\n",
       "    </tr>\n",
       "    <tr>\n",
       "      <th>1</th>\n",
       "      <td>7.8</td>\n",
       "      <td>0.88</td>\n",
       "      <td>0.00</td>\n",
       "      <td>2.6</td>\n",
       "      <td>0.098</td>\n",
       "      <td>25.0</td>\n",
       "      <td>67.0</td>\n",
       "      <td>0.9968</td>\n",
       "      <td>3.20</td>\n",
       "      <td>0.68</td>\n",
       "      <td>9.8</td>\n",
       "      <td>5</td>\n",
       "    </tr>\n",
       "    <tr>\n",
       "      <th>2</th>\n",
       "      <td>7.8</td>\n",
       "      <td>0.76</td>\n",
       "      <td>0.04</td>\n",
       "      <td>2.3</td>\n",
       "      <td>0.092</td>\n",
       "      <td>15.0</td>\n",
       "      <td>54.0</td>\n",
       "      <td>0.9970</td>\n",
       "      <td>3.26</td>\n",
       "      <td>0.65</td>\n",
       "      <td>9.8</td>\n",
       "      <td>5</td>\n",
       "    </tr>\n",
       "    <tr>\n",
       "      <th>3</th>\n",
       "      <td>11.2</td>\n",
       "      <td>0.28</td>\n",
       "      <td>0.56</td>\n",
       "      <td>1.9</td>\n",
       "      <td>0.075</td>\n",
       "      <td>17.0</td>\n",
       "      <td>60.0</td>\n",
       "      <td>0.9980</td>\n",
       "      <td>3.16</td>\n",
       "      <td>0.58</td>\n",
       "      <td>9.8</td>\n",
       "      <td>6</td>\n",
       "    </tr>\n",
       "    <tr>\n",
       "      <th>4</th>\n",
       "      <td>7.4</td>\n",
       "      <td>0.70</td>\n",
       "      <td>0.00</td>\n",
       "      <td>1.9</td>\n",
       "      <td>0.076</td>\n",
       "      <td>11.0</td>\n",
       "      <td>34.0</td>\n",
       "      <td>0.9978</td>\n",
       "      <td>3.51</td>\n",
       "      <td>0.56</td>\n",
       "      <td>9.4</td>\n",
       "      <td>5</td>\n",
       "    </tr>\n",
       "  </tbody>\n",
       "</table>\n",
       "</div>"
      ],
      "text/plain": [
       "   fixed acidity  volatile acidity  citric acid  residual sugar  chlorides  \\\n",
       "0            7.4              0.70         0.00             1.9      0.076   \n",
       "1            7.8              0.88         0.00             2.6      0.098   \n",
       "2            7.8              0.76         0.04             2.3      0.092   \n",
       "3           11.2              0.28         0.56             1.9      0.075   \n",
       "4            7.4              0.70         0.00             1.9      0.076   \n",
       "\n",
       "   free sulfur dioxide  total sulfur dioxide  density    pH  sulphates  \\\n",
       "0                 11.0                  34.0   0.9978  3.51       0.56   \n",
       "1                 25.0                  67.0   0.9968  3.20       0.68   \n",
       "2                 15.0                  54.0   0.9970  3.26       0.65   \n",
       "3                 17.0                  60.0   0.9980  3.16       0.58   \n",
       "4                 11.0                  34.0   0.9978  3.51       0.56   \n",
       "\n",
       "   alcohol  quality  \n",
       "0      9.4        5  \n",
       "1      9.8        5  \n",
       "2      9.8        5  \n",
       "3      9.8        6  \n",
       "4      9.4        5  "
      ]
     },
     "execution_count": 2,
     "metadata": {},
     "output_type": "execute_result"
    }
   ],
   "source": [
    "wine_data = pd.read_csv('../input/red-wine-quality-cortez-et-al-2009/winequality-red.csv')\n",
    "wine_data.head()"
   ]
  },
  {
   "cell_type": "markdown",
   "id": "0dec6821",
   "metadata": {
    "papermill": {
     "duration": 0.029785,
     "end_time": "2021-09-29T08:08:11.121020",
     "exception": false,
     "start_time": "2021-09-29T08:08:11.091235",
     "status": "completed"
    },
    "tags": []
   },
   "source": [
    "# Missing Values"
   ]
  },
  {
   "cell_type": "code",
   "execution_count": 3,
   "id": "25430005",
   "metadata": {
    "execution": {
     "iopub.execute_input": "2021-09-29T08:08:11.184525Z",
     "iopub.status.busy": "2021-09-29T08:08:11.183836Z",
     "iopub.status.idle": "2021-09-29T08:08:11.207392Z",
     "shell.execute_reply": "2021-09-29T08:08:11.206798Z",
     "shell.execute_reply.started": "2021-09-29T07:42:49.978038Z"
    },
    "papermill": {
     "duration": 0.056414,
     "end_time": "2021-09-29T08:08:11.207541",
     "exception": false,
     "start_time": "2021-09-29T08:08:11.151127",
     "status": "completed"
    },
    "tags": []
   },
   "outputs": [
    {
     "name": "stdout",
     "output_type": "stream",
     "text": [
      "<class 'pandas.core.frame.DataFrame'>\n",
      "RangeIndex: 1599 entries, 0 to 1598\n",
      "Data columns (total 12 columns):\n",
      " #   Column                Non-Null Count  Dtype  \n",
      "---  ------                --------------  -----  \n",
      " 0   fixed acidity         1599 non-null   float64\n",
      " 1   volatile acidity      1599 non-null   float64\n",
      " 2   citric acid           1599 non-null   float64\n",
      " 3   residual sugar        1599 non-null   float64\n",
      " 4   chlorides             1599 non-null   float64\n",
      " 5   free sulfur dioxide   1599 non-null   float64\n",
      " 6   total sulfur dioxide  1599 non-null   float64\n",
      " 7   density               1599 non-null   float64\n",
      " 8   pH                    1599 non-null   float64\n",
      " 9   sulphates             1599 non-null   float64\n",
      " 10  alcohol               1599 non-null   float64\n",
      " 11  quality               1599 non-null   int64  \n",
      "dtypes: float64(11), int64(1)\n",
      "memory usage: 150.0 KB\n"
     ]
    }
   ],
   "source": [
    "wine_data.info()"
   ]
  },
  {
   "cell_type": "code",
   "execution_count": 4,
   "id": "bf6f5f24",
   "metadata": {
    "execution": {
     "iopub.execute_input": "2021-09-29T08:08:11.272991Z",
     "iopub.status.busy": "2021-09-29T08:08:11.272312Z",
     "iopub.status.idle": "2021-09-29T08:08:11.279106Z",
     "shell.execute_reply": "2021-09-29T08:08:11.279637Z",
     "shell.execute_reply.started": "2021-09-29T07:42:50.003941Z"
    },
    "papermill": {
     "duration": 0.041004,
     "end_time": "2021-09-29T08:08:11.279816",
     "exception": false,
     "start_time": "2021-09-29T08:08:11.238812",
     "status": "completed"
    },
    "tags": []
   },
   "outputs": [
    {
     "data": {
      "text/plain": [
       "fixed acidity           0\n",
       "volatile acidity        0\n",
       "citric acid             0\n",
       "residual sugar          0\n",
       "chlorides               0\n",
       "free sulfur dioxide     0\n",
       "total sulfur dioxide    0\n",
       "density                 0\n",
       "pH                      0\n",
       "sulphates               0\n",
       "alcohol                 0\n",
       "quality                 0\n",
       "dtype: int64"
      ]
     },
     "execution_count": 4,
     "metadata": {},
     "output_type": "execute_result"
    }
   ],
   "source": [
    "wine_data.isnull().sum()"
   ]
  },
  {
   "cell_type": "markdown",
   "id": "e0b3abb1",
   "metadata": {
    "papermill": {
     "duration": 0.030253,
     "end_time": "2021-09-29T08:08:11.341472",
     "exception": false,
     "start_time": "2021-09-29T08:08:11.311219",
     "status": "completed"
    },
    "tags": []
   },
   "source": [
    "**Good thing we have no missing values in this dataset so no imputation (replacing missing values with other appropriate ones) necessary.**"
   ]
  },
  {
   "cell_type": "markdown",
   "id": "f7914887",
   "metadata": {
    "papermill": {
     "duration": 0.030541,
     "end_time": "2021-09-29T08:08:11.402827",
     "exception": false,
     "start_time": "2021-09-29T08:08:11.372286",
     "status": "completed"
    },
    "tags": []
   },
   "source": [
    "# Exploratory Data Analysis"
   ]
  },
  {
   "cell_type": "code",
   "execution_count": 5,
   "id": "c9718be4",
   "metadata": {
    "execution": {
     "iopub.execute_input": "2021-09-29T08:08:11.472084Z",
     "iopub.status.busy": "2021-09-29T08:08:11.470103Z",
     "iopub.status.idle": "2021-09-29T08:08:12.683238Z",
     "shell.execute_reply": "2021-09-29T08:08:12.683746Z",
     "shell.execute_reply.started": "2021-09-29T07:42:50.013962Z"
    },
    "papermill": {
     "duration": 1.250018,
     "end_time": "2021-09-29T08:08:12.683916",
     "exception": false,
     "start_time": "2021-09-29T08:08:11.433898",
     "status": "completed"
    },
    "tags": []
   },
   "outputs": [
    {
     "data": {
      "text/plain": [
       "<AxesSubplot:>"
      ]
     },
     "execution_count": 5,
     "metadata": {},
     "output_type": "execute_result"
    },
    {
     "data": {
      "image/png": "[encoded data removed]",
      "text/plain": [
       "<Figure size 576x576 with 2 Axes>"
      ]
     },
     "metadata": {
      "needs_background": "light"
     },
     "output_type": "display_data"
    }
   ],
   "source": [
    "# We can use a heatmap to check correlation between the variables.\n",
    "corr = wine_data.corr()\n",
    "plt.figure(figsize=(8,8))\n",
    "sns.heatmap(corr,cbar=True,square=True,fmt='.1f',annot=True,cmap='Reds')"
   ]
  },
  {
   "cell_type": "markdown",
   "id": "aa4dd558",
   "metadata": {
    "papermill": {
     "duration": 0.033178,
     "end_time": "2021-09-29T08:08:12.750717",
     "exception": false,
     "start_time": "2021-09-29T08:08:12.717539",
     "status": "completed"
    },
    "tags": []
   },
   "source": [
    "**We can make observations such as, as quantity of alcohol increases, the quality of red wine betters. But, as volatile acidity increases,the quality of red wine deteriorates.**"
   ]
  },
  {
   "cell_type": "code",
   "execution_count": 6,
   "id": "292123a0",
   "metadata": {
    "execution": {
     "iopub.execute_input": "2021-09-29T08:08:12.824858Z",
     "iopub.status.busy": "2021-09-29T08:08:12.824043Z",
     "iopub.status.idle": "2021-09-29T08:08:12.828618Z",
     "shell.execute_reply": "2021-09-29T08:08:12.827953Z",
     "shell.execute_reply.started": "2021-09-29T07:42:51.318628Z"
    },
    "papermill": {
     "duration": 0.044605,
     "end_time": "2021-09-29T08:08:12.828769",
     "exception": false,
     "start_time": "2021-09-29T08:08:12.784164",
     "status": "completed"
    },
    "tags": []
   },
   "outputs": [
    {
     "data": {
      "text/plain": [
       "[3, 4, 5, 6, 7, 8]"
      ]
     },
     "execution_count": 6,
     "metadata": {},
     "output_type": "execute_result"
    }
   ],
   "source": [
    "qs = wine_data['quality'].unique()\n",
    "sorted(qs)"
   ]
  },
  {
   "cell_type": "markdown",
   "id": "16a8ba21",
   "metadata": {
    "papermill": {
     "duration": 0.040957,
     "end_time": "2021-09-29T08:08:12.903897",
     "exception": false,
     "start_time": "2021-09-29T08:08:12.862940",
     "status": "completed"
    },
    "tags": []
   },
   "source": [
    "**We can see that the quality column has the values from 3-8. No 1 or 2. 3 being the worst quality and 8, the best.**"
   ]
  },
  {
   "cell_type": "code",
   "execution_count": 7,
   "id": "a39415b1",
   "metadata": {
    "execution": {
     "iopub.execute_input": "2021-09-29T08:08:12.990555Z",
     "iopub.status.busy": "2021-09-29T08:08:12.989403Z",
     "iopub.status.idle": "2021-09-29T08:08:16.285488Z",
     "shell.execute_reply": "2021-09-29T08:08:16.284956Z",
     "shell.execute_reply.started": "2021-09-29T07:42:51.327671Z"
    },
    "papermill": {
     "duration": 3.341481,
     "end_time": "2021-09-29T08:08:16.285642",
     "exception": false,
     "start_time": "2021-09-29T08:08:12.944161",
     "status": "completed"
    },
    "tags": []
   },
   "outputs": [
    {
     "data": {
      "image/png": "[encoded data removed]",
      "text/plain": [
       "<Figure size 720x720 with 1 Axes>"
      ]
     },
     "metadata": {
      "needs_background": "light"
     },
     "output_type": "display_data"
    }
   ],
   "source": [
    "# Sulphates vs Quality\n",
    "plt.figure(figsize=(10,10))\n",
    "x = wine_data.quality\n",
    "y = wine_data.sulphates\n",
    "plt.bar(x,y)\n",
    "plt.xlabel(\"Quality\")\n",
    "plt.ylabel(\"Sulphates\")\n",
    "plt.show()"
   ]
  },
  {
   "cell_type": "markdown",
   "id": "e8240e1b",
   "metadata": {
    "papermill": {
     "duration": 0.034479,
     "end_time": "2021-09-29T08:08:16.354749",
     "exception": false,
     "start_time": "2021-09-29T08:08:16.320270",
     "status": "completed"
    },
    "tags": []
   },
   "source": [
    "**Mediocre quality wines have high amounts of sulphates but interestingly, both poor and great quality wines have similar amounts of sulphates.**"
   ]
  },
  {
   "cell_type": "code",
   "execution_count": 8,
   "id": "8720e560",
   "metadata": {
    "execution": {
     "iopub.execute_input": "2021-09-29T08:08:16.430471Z",
     "iopub.status.busy": "2021-09-29T08:08:16.429778Z",
     "iopub.status.idle": "2021-09-29T08:08:16.806516Z",
     "shell.execute_reply": "2021-09-29T08:08:16.807038Z",
     "shell.execute_reply.started": "2021-09-29T07:42:54.676789Z"
    },
    "papermill": {
     "duration": 0.41801,
     "end_time": "2021-09-29T08:08:16.807218",
     "exception": false,
     "start_time": "2021-09-29T08:08:16.389208",
     "status": "completed"
    },
    "tags": []
   },
   "outputs": [
    {
     "data": {
      "text/plain": [
       "<AxesSubplot:xlabel='quality', ylabel='volatile acidity'>"
      ]
     },
     "execution_count": 8,
     "metadata": {},
     "output_type": "execute_result"
    },
    {
     "data": {
      "image/png": "[encoded data removed]",
      "text/plain": [
       "<Figure size 720x720 with 1 Axes>"
      ]
     },
     "metadata": {
      "needs_background": "light"
     },
     "output_type": "display_data"
    }
   ],
   "source": [
    "# Volatile Acidity vs Quality\n",
    "plt.figure(figsize=(10,10))\n",
    "sns.barplot(x='quality',y='volatile acidity',data=wine_data)"
   ]
  },
  {
   "cell_type": "markdown",
   "id": "081146f1",
   "metadata": {
    "papermill": {
     "duration": 0.035772,
     "end_time": "2021-09-29T08:08:16.879826",
     "exception": false,
     "start_time": "2021-09-29T08:08:16.844054",
     "status": "completed"
    },
    "tags": []
   },
   "source": [
    "**Wines with good quality have less volatile acidity.**"
   ]
  },
  {
   "cell_type": "code",
   "execution_count": 9,
   "id": "76c87fe9",
   "metadata": {
    "execution": {
     "iopub.execute_input": "2021-09-29T08:08:16.954861Z",
     "iopub.status.busy": "2021-09-29T08:08:16.953791Z",
     "iopub.status.idle": "2021-09-29T08:08:17.340772Z",
     "shell.execute_reply": "2021-09-29T08:08:17.341225Z",
     "shell.execute_reply.started": "2021-09-29T07:42:55.115437Z"
    },
    "papermill": {
     "duration": 0.426031,
     "end_time": "2021-09-29T08:08:17.341398",
     "exception": false,
     "start_time": "2021-09-29T08:08:16.915367",
     "status": "completed"
    },
    "tags": []
   },
   "outputs": [
    {
     "data": {
      "text/plain": [
       "<AxesSubplot:xlabel='quality', ylabel='pH'>"
      ]
     },
     "execution_count": 9,
     "metadata": {},
     "output_type": "execute_result"
    },
    {
     "data": {
      "image/png": "[encoded data removed]",
      "text/plain": [
       "<Figure size 720x720 with 1 Axes>"
      ]
     },
     "metadata": {
      "needs_background": "light"
     },
     "output_type": "display_data"
    }
   ],
   "source": [
    "# pH vs Quality\n",
    "plt.figure(figsize=(10,10))\n",
    "sns.barplot(x='quality',y='pH',data=wine_data)"
   ]
  },
  {
   "cell_type": "markdown",
   "id": "d6cad85f",
   "metadata": {
    "papermill": {
     "duration": 0.037142,
     "end_time": "2021-09-29T08:08:17.415027",
     "exception": false,
     "start_time": "2021-09-29T08:08:17.377885",
     "status": "completed"
    },
    "tags": []
   },
   "source": [
    "**pH of all types of wine are rather similar, close to 3.5, mildly acidic. But this could be disproved if there were more samples.**"
   ]
  },
  {
   "cell_type": "code",
   "execution_count": 10,
   "id": "ab71a8cd",
   "metadata": {
    "execution": {
     "iopub.execute_input": "2021-09-29T08:08:17.493765Z",
     "iopub.status.busy": "2021-09-29T08:08:17.493093Z",
     "iopub.status.idle": "2021-09-29T08:08:17.683502Z",
     "shell.execute_reply": "2021-09-29T08:08:17.682866Z",
     "shell.execute_reply.started": "2021-09-29T07:42:55.548701Z"
    },
    "papermill": {
     "duration": 0.230352,
     "end_time": "2021-09-29T08:08:17.683662",
     "exception": false,
     "start_time": "2021-09-29T08:08:17.453310",
     "status": "completed"
    },
    "tags": []
   },
   "outputs": [
    {
     "data": {
      "text/plain": [
       "<AxesSubplot:xlabel='quality', ylabel='count'>"
      ]
     },
     "execution_count": 10,
     "metadata": {},
     "output_type": "execute_result"
    },
    {
     "data": {
      "image/png": "[encoded data removed]",
      "text/plain": [
       "<Figure size 720x720 with 1 Axes>"
      ]
     },
     "metadata": {
      "needs_background": "light"
     },
     "output_type": "display_data"
    }
   ],
   "source": [
    "plt.figure(figsize=(10,10))\n",
    "sns.countplot(x=\"quality\", data=wine_data)"
   ]
  },
  {
   "cell_type": "markdown",
   "id": "53f884b9",
   "metadata": {
    "papermill": {
     "duration": 0.03884,
     "end_time": "2021-09-29T08:08:17.761246",
     "exception": false,
     "start_time": "2021-09-29T08:08:17.722406",
     "status": "completed"
    },
    "tags": []
   },
   "source": [
    "**We have more samples of wines with mediocre qualuty but very few samples for bad quality and great quality wines. If the dataset overall had more samples, maybe we'd have more samples for those and the results would be more reliable.**"
   ]
  },
  {
   "cell_type": "markdown",
   "id": "64e86f46",
   "metadata": {
    "papermill": {
     "duration": 0.038356,
     "end_time": "2021-09-29T08:08:17.838243",
     "exception": false,
     "start_time": "2021-09-29T08:08:17.799887",
     "status": "completed"
    },
    "tags": []
   },
   "source": [
    "# Splitting Data"
   ]
  },
  {
   "cell_type": "code",
   "execution_count": 11,
   "id": "45b04b63",
   "metadata": {
    "execution": {
     "iopub.execute_input": "2021-09-29T08:08:17.922126Z",
     "iopub.status.busy": "2021-09-29T08:08:17.921455Z",
     "iopub.status.idle": "2021-09-29T08:08:17.924279Z",
     "shell.execute_reply": "2021-09-29T08:08:17.923709Z",
     "shell.execute_reply.started": "2021-09-29T07:42:55.788741Z"
    },
    "papermill": {
     "duration": 0.047172,
     "end_time": "2021-09-29T08:08:17.924419",
     "exception": false,
     "start_time": "2021-09-29T08:08:17.877247",
     "status": "completed"
    },
    "tags": []
   },
   "outputs": [],
   "source": [
    "# We need to split the data\n",
    "X = wine_data.drop(['quality'],axis=1) # We need all the variables (columns) as independent variables so we're just dropping the target column to make things easier."
   ]
  },
  {
   "cell_type": "markdown",
   "id": "3483d797",
   "metadata": {
    "papermill": {
     "duration": 0.037216,
     "end_time": "2021-09-29T08:08:17.999527",
     "exception": false,
     "start_time": "2021-09-29T08:08:17.962311",
     "status": "completed"
    },
    "tags": []
   },
   "source": [
    "**Now we need to separate the quality column and store it in 'y'. But before that, we need to binarize the y labels, for example into 1/0 to represent good/bad. We need to do this as there are way too many labels in that column.**"
   ]
  },
  {
   "cell_type": "code",
   "execution_count": 12,
   "id": "1c6e70bf",
   "metadata": {
    "execution": {
     "iopub.execute_input": "2021-09-29T08:08:18.083935Z",
     "iopub.status.busy": "2021-09-29T08:08:18.083119Z",
     "iopub.status.idle": "2021-09-29T08:08:18.085540Z",
     "shell.execute_reply": "2021-09-29T08:08:18.085039Z",
     "shell.execute_reply.started": "2021-09-29T07:49:28.640386Z"
    },
    "papermill": {
     "duration": 0.047506,
     "end_time": "2021-09-29T08:08:18.085696",
     "exception": false,
     "start_time": "2021-09-29T08:08:18.038190",
     "status": "completed"
    },
    "tags": []
   },
   "outputs": [],
   "source": [
    "# Binarization\n",
    "# this function will take each wine quality and if it is 6 or more, it will be labelled as 1/'good' wine.\n",
    "y = wine_data['quality'].apply(lambda quality: 1 if quality >= 6 else 0)"
   ]
  },
  {
   "cell_type": "code",
   "execution_count": 13,
   "id": "bd414020",
   "metadata": {
    "execution": {
     "iopub.execute_input": "2021-09-29T08:08:18.169159Z",
     "iopub.status.busy": "2021-09-29T08:08:18.168191Z",
     "iopub.status.idle": "2021-09-29T08:08:18.172955Z",
     "shell.execute_reply": "2021-09-29T08:08:18.172311Z",
     "shell.execute_reply.started": "2021-09-29T07:49:46.110960Z"
    },
    "papermill": {
     "duration": 0.049493,
     "end_time": "2021-09-29T08:08:18.173100",
     "exception": false,
     "start_time": "2021-09-29T08:08:18.123607",
     "status": "completed"
    },
    "tags": []
   },
   "outputs": [],
   "source": [
    "# Then we split the data into training and testing data\n",
    "X_train, X_test, y_train, y_test = train_test_split(X,y,test_size = 0.2, random_state = 2) # 80% data will be used for training the model and rest 20% for testing."
   ]
  },
  {
   "cell_type": "code",
   "execution_count": 14,
   "id": "e0d007b9",
   "metadata": {
    "execution": {
     "iopub.execute_input": "2021-09-29T08:08:18.253795Z",
     "iopub.status.busy": "2021-09-29T08:08:18.252705Z",
     "iopub.status.idle": "2021-09-29T08:08:18.258127Z",
     "shell.execute_reply": "2021-09-29T08:08:18.257612Z",
     "shell.execute_reply.started": "2021-09-29T07:49:55.093791Z"
    },
    "papermill": {
     "duration": 0.047167,
     "end_time": "2021-09-29T08:08:18.258271",
     "exception": false,
     "start_time": "2021-09-29T08:08:18.211104",
     "status": "completed"
    },
    "tags": []
   },
   "outputs": [
    {
     "name": "stdout",
     "output_type": "stream",
     "text": [
      "(1599, 11) (1279, 11)\n"
     ]
    }
   ],
   "source": [
    "print(X.shape,X_train.shape)"
   ]
  },
  {
   "cell_type": "markdown",
   "id": "555225ac",
   "metadata": {
    "papermill": {
     "duration": 0.03895,
     "end_time": "2021-09-29T08:08:18.335204",
     "exception": false,
     "start_time": "2021-09-29T08:08:18.296254",
     "status": "completed"
    },
    "tags": []
   },
   "source": [
    "**As we can see, 1279 rows are used for testing out of 1599 which is about 80% of the data.**"
   ]
  },
  {
   "cell_type": "markdown",
   "id": "4d113d20",
   "metadata": {
    "papermill": {
     "duration": 0.037639,
     "end_time": "2021-09-29T08:08:18.410914",
     "exception": false,
     "start_time": "2021-09-29T08:08:18.373275",
     "status": "completed"
    },
    "tags": []
   },
   "source": [
    "# Model Building"
   ]
  },
  {
   "cell_type": "markdown",
   "id": "2ecd6c64",
   "metadata": {
    "papermill": {
     "duration": 0.037608,
     "end_time": "2021-09-29T08:08:18.486377",
     "exception": false,
     "start_time": "2021-09-29T08:08:18.448769",
     "status": "completed"
    },
    "tags": []
   },
   "source": [
    "**We're going to use a random forest model.**"
   ]
  },
  {
   "cell_type": "code",
   "execution_count": 15,
   "id": "ba046a8e",
   "metadata": {
    "execution": {
     "iopub.execute_input": "2021-09-29T08:08:18.567398Z",
     "iopub.status.busy": "2021-09-29T08:08:18.566711Z",
     "iopub.status.idle": "2021-09-29T08:08:18.568641Z",
     "shell.execute_reply": "2021-09-29T08:08:18.569223Z",
     "shell.execute_reply.started": "2021-09-29T08:02:44.337657Z"
    },
    "papermill": {
     "duration": 0.045089,
     "end_time": "2021-09-29T08:08:18.569389",
     "exception": false,
     "start_time": "2021-09-29T08:08:18.524300",
     "status": "completed"
    },
    "tags": []
   },
   "outputs": [],
   "source": [
    "model = RandomForestClassifier()"
   ]
  },
  {
   "cell_type": "code",
   "execution_count": 16,
   "id": "ba37c13f",
   "metadata": {
    "execution": {
     "iopub.execute_input": "2021-09-29T08:08:18.648746Z",
     "iopub.status.busy": "2021-09-29T08:08:18.648092Z",
     "iopub.status.idle": "2021-09-29T08:08:19.010109Z",
     "shell.execute_reply": "2021-09-29T08:08:19.010604Z",
     "shell.execute_reply.started": "2021-09-29T08:03:02.565243Z"
    },
    "papermill": {
     "duration": 0.403466,
     "end_time": "2021-09-29T08:08:19.010804",
     "exception": false,
     "start_time": "2021-09-29T08:08:18.607338",
     "status": "completed"
    },
    "tags": []
   },
   "outputs": [
    {
     "data": {
      "text/plain": [
       "RandomForestClassifier()"
      ]
     },
     "execution_count": 16,
     "metadata": {},
     "output_type": "execute_result"
    }
   ],
   "source": [
    "# Now we need to train the model\n",
    "model.fit(X_train,y_train) # fitting means training"
   ]
  },
  {
   "cell_type": "markdown",
   "id": "d354eb9c",
   "metadata": {
    "papermill": {
     "duration": 0.038999,
     "end_time": "2021-09-29T08:08:19.090150",
     "exception": false,
     "start_time": "2021-09-29T08:08:19.051151",
     "status": "completed"
    },
    "tags": []
   },
   "source": [
    "# Prediction and Evaluation of the Model"
   ]
  },
  {
   "cell_type": "markdown",
   "id": "cb9baf49",
   "metadata": {
    "papermill": {
     "duration": 0.03775,
     "end_time": "2021-09-29T08:08:19.166991",
     "exception": false,
     "start_time": "2021-09-29T08:08:19.129241",
     "status": "completed"
    },
    "tags": []
   },
   "source": [
    "**First, we need to use the model to predict good/poor quality from the training data. Then, we check our model's accuracy using accuracy score.**"
   ]
  },
  {
   "cell_type": "code",
   "execution_count": 17,
   "id": "7c6f2cf4",
   "metadata": {
    "execution": {
     "iopub.execute_input": "2021-09-29T08:08:19.246745Z",
     "iopub.status.busy": "2021-09-29T08:08:19.246102Z",
     "iopub.status.idle": "2021-09-29T08:08:19.280778Z",
     "shell.execute_reply": "2021-09-29T08:08:19.280262Z",
     "shell.execute_reply.started": "2021-09-29T08:06:40.079815Z"
    },
    "papermill": {
     "duration": 0.075739,
     "end_time": "2021-09-29T08:08:19.280920",
     "exception": false,
     "start_time": "2021-09-29T08:08:19.205181",
     "status": "completed"
    },
    "tags": []
   },
   "outputs": [
    {
     "data": {
      "text/plain": [
       "array([1, 1, 1, ..., 1, 1, 1])"
      ]
     },
     "execution_count": 17,
     "metadata": {},
     "output_type": "execute_result"
    }
   ],
   "source": [
    "train_pred = model.predict(X_train)\n",
    "train_pred"
   ]
  },
  {
   "cell_type": "code",
   "execution_count": 18,
   "id": "f9966388",
   "metadata": {
    "execution": {
     "iopub.execute_input": "2021-09-29T08:08:19.361145Z",
     "iopub.status.busy": "2021-09-29T08:08:19.360500Z",
     "iopub.status.idle": "2021-09-29T08:08:19.366541Z",
     "shell.execute_reply": "2021-09-29T08:08:19.366016Z",
     "shell.execute_reply.started": "2021-09-29T08:03:34.198681Z"
    },
    "papermill": {
     "duration": 0.047428,
     "end_time": "2021-09-29T08:08:19.366701",
     "exception": false,
     "start_time": "2021-09-29T08:08:19.319273",
     "status": "completed"
    },
    "tags": []
   },
   "outputs": [
    {
     "name": "stdout",
     "output_type": "stream",
     "text": [
      "Accuracy Score: 1.0\n"
     ]
    }
   ],
   "source": [
    "# Now let's check accuracy score on training data\n",
    "Training_score = accuracy_score(train_pred,y_train) #(Basically comparing the original y_train and predictions and seeing difference/error)\n",
    "print(\"Accuracy Score:\",Training_score)"
   ]
  },
  {
   "cell_type": "markdown",
   "id": "a666c923",
   "metadata": {
    "papermill": {
     "duration": 0.038473,
     "end_time": "2021-09-29T08:08:19.443788",
     "exception": false,
     "start_time": "2021-09-29T08:08:19.405315",
     "status": "completed"
    },
    "tags": []
   },
   "source": [
    "**Our model is 100% accurate on training data. WOAH.**"
   ]
  },
  {
   "cell_type": "markdown",
   "id": "d61b1ea6",
   "metadata": {
    "papermill": {
     "duration": 0.038681,
     "end_time": "2021-09-29T08:08:19.522064",
     "exception": false,
     "start_time": "2021-09-29T08:08:19.483383",
     "status": "completed"
    },
    "tags": []
   },
   "source": [
    "**But keep in mind that we used training data to check accuracy. We need to check using test data for a better understanding.**"
   ]
  },
  {
   "cell_type": "code",
   "execution_count": 19,
   "id": "c5db3134",
   "metadata": {
    "execution": {
     "iopub.execute_input": "2021-09-29T08:08:19.607903Z",
     "iopub.status.busy": "2021-09-29T08:08:19.606873Z",
     "iopub.status.idle": "2021-09-29T08:08:19.629025Z",
     "shell.execute_reply": "2021-09-29T08:08:19.628489Z",
     "shell.execute_reply.started": "2021-09-29T08:06:53.737512Z"
    },
    "papermill": {
     "duration": 0.067906,
     "end_time": "2021-09-29T08:08:19.629169",
     "exception": false,
     "start_time": "2021-09-29T08:08:19.561263",
     "status": "completed"
    },
    "tags": []
   },
   "outputs": [
    {
     "data": {
      "text/plain": [
       "array([1, 1, 1, 0, 0, 0, 1, 0, 0, 0, 1, 1, 0, 1, 0, 1, 1, 1, 1, 1, 1, 1,\n",
       "       1, 1, 0, 1, 0, 1, 1, 1, 0, 1, 1, 1, 1, 0, 1, 1, 1, 1, 0, 1, 1, 0,\n",
       "       0, 1, 0, 1, 1, 0, 0, 0, 0, 1, 1, 0, 1, 0, 1, 1, 1, 1, 1, 0, 1, 1,\n",
       "       1, 1, 1, 1, 0, 1, 1, 0, 0, 1, 1, 1, 1, 0, 0, 1, 1, 0, 1, 1, 0, 0,\n",
       "       0, 0, 1, 0, 0, 1, 1, 1, 0, 0, 0, 0, 1, 0, 0, 0, 1, 1, 1, 0, 1, 1,\n",
       "       1, 0, 0, 0, 1, 1, 0, 1, 1, 1, 1, 1, 1, 1, 1, 1, 1, 0, 1, 0, 1, 0,\n",
       "       1, 1, 1, 0, 1, 1, 0, 1, 1, 1, 1, 1, 0, 1, 0, 1, 1, 1, 0, 1, 1, 0,\n",
       "       1, 1, 1, 0, 1, 1, 0, 0, 0, 0, 1, 1, 1, 1, 0, 0, 1, 1, 1, 1, 1, 1,\n",
       "       0, 1, 0, 1, 0, 1, 0, 1, 0, 0, 1, 0, 1, 1, 1, 1, 0, 0, 0, 0, 0, 0,\n",
       "       0, 1, 0, 1, 0, 0, 0, 0, 1, 1, 1, 0, 1, 1, 0, 0, 1, 1, 1, 1, 0, 1,\n",
       "       1, 1, 0, 1, 1, 1, 0, 1, 1, 1, 1, 0, 0, 0, 1, 0, 0, 1, 0, 0, 1, 0,\n",
       "       1, 1, 1, 1, 0, 1, 0, 1, 1, 0, 0, 0, 1, 1, 0, 0, 1, 0, 1, 0, 0, 0,\n",
       "       1, 1, 0, 0, 0, 1, 0, 1, 0, 1, 0, 0, 0, 0, 1, 0, 0, 1, 0, 1, 1, 0,\n",
       "       0, 1, 1, 1, 1, 1, 1, 0, 0, 0, 1, 0, 0, 1, 1, 1, 1, 1, 1, 1, 1, 0,\n",
       "       0, 1, 0, 0, 1, 0, 0, 0, 0, 0, 0, 0])"
      ]
     },
     "execution_count": 19,
     "metadata": {},
     "output_type": "execute_result"
    }
   ],
   "source": [
    "test_pred = model.predict(X_test)\n",
    "test_pred"
   ]
  },
  {
   "cell_type": "code",
   "execution_count": 20,
   "id": "8df925a4",
   "metadata": {
    "execution": {
     "iopub.execute_input": "2021-09-29T08:08:19.714479Z",
     "iopub.status.busy": "2021-09-29T08:08:19.713806Z",
     "iopub.status.idle": "2021-09-29T08:08:19.716960Z",
     "shell.execute_reply": "2021-09-29T08:08:19.717667Z",
     "shell.execute_reply.started": "2021-09-29T08:06:19.247186Z"
    },
    "papermill": {
     "duration": 0.049517,
     "end_time": "2021-09-29T08:08:19.717890",
     "exception": false,
     "start_time": "2021-09-29T08:08:19.668373",
     "status": "completed"
    },
    "tags": []
   },
   "outputs": [
    {
     "name": "stdout",
     "output_type": "stream",
     "text": [
      "Accuracy Score: 0.790625\n"
     ]
    }
   ],
   "source": [
    "# Accuracy Score\n",
    "Test_score = accuracy_score(test_pred,y_test) \n",
    "print(\"Accuracy Score:\",Test_score)"
   ]
  },
  {
   "cell_type": "markdown",
   "id": "394a4c87",
   "metadata": {
    "papermill": {
     "duration": 0.03918,
     "end_time": "2021-09-29T08:08:19.798706",
     "exception": false,
     "start_time": "2021-09-29T08:08:19.759526",
     "status": "completed"
    },
    "tags": []
   },
   "source": [
    "**BUT, the model is only about 77% accurate on test data. 75+ % is good enough but it could be better. Maybe, if we used some other model.**"
   ]
  },
  {
   "cell_type": "markdown",
   "id": "d13997ba",
   "metadata": {
    "papermill": {
     "duration": 0.03933,
     "end_time": "2021-09-29T08:08:19.877507",
     "exception": false,
     "start_time": "2021-09-29T08:08:19.838177",
     "status": "completed"
    },
    "tags": []
   },
   "source": [
    "# Conclusion"
   ]
  },
  {
   "cell_type": "markdown",
   "id": "9fa238ef",
   "metadata": {
    "papermill": {
     "duration": 0.038852,
     "end_time": "2021-09-29T08:08:19.955943",
     "exception": false,
     "start_time": "2021-09-29T08:08:19.917091",
     "status": "completed"
    },
    "tags": []
   },
   "source": [
    "So basically the workflow is like this: Import libraries and dataset -> check for missing values -> perform necessary imputation -> Exploratory Data Analysis -> split data -> train model -> check its accuracy -> improve model or try other ones.\n",
    "\n",
    "**To get better accuracy, try different models or use more training data.**"
   ]
  }
 ],
 "metadata": {
  "kernelspec": {
   "display_name": "Python 3",
   "language": "python",
   "name": "python3"
  },
  "language_info": {
   "codemirror_mode": {
    "name": "ipython",
    "version": 3
   },
   "file_extension": ".py",
   "mimetype": "text/x-python",
   "name": "python",
   "nbconvert_exporter": "python",
   "pygments_lexer": "ipython3",
   "version": "3.7.10"
  },
  "papermill": {
   "default_parameters": {},
   "duration": 19.394958,
   "end_time": "2021-09-29T08:08:20.707022",
   "environment_variables": {},
   "exception": null,
   "input_path": "__notebook__.ipynb",
   "output_path": "__notebook__.ipynb",
   "parameters": {},
   "start_time": "2021-09-29T08:08:01.312064",
   "version": "2.3.3"
  }
 },
 "nbformat": 4,
 "nbformat_minor": 5
}
